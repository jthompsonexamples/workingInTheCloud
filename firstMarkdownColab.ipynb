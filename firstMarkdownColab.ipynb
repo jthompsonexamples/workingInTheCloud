{
  "nbformat": 4,
  "nbformat_minor": 0,
  "metadata": {
    "colab": {
      "name": "firstMarkdownColab.ipynb",
      "provenance": [],
      "authorship_tag": "ABX9TyMevUtv6thLClotI7hZET5n"
    },
    "kernelspec": {
      "name": "python3",
      "display_name": "Python 3"
    },
    "language_info": {
      "name": "python"
    }
  },
  "cells": [
    {
      "cell_type": "code",
      "execution_count": null,
      "metadata": {
        "colab": {
          "base_uri": "https://localhost:8080/"
        },
        "id": "RNxV69apH5C9",
        "outputId": "71dc3b10-e1d5-4f74-87b1-f935fb494fc3"
      },
      "outputs": [
        {
          "output_type": "stream",
          "name": "stdout",
          "text": [
            "Hello World\n"
          ]
        }
      ],
      "source": [
        "print(\"Hello World\")"
      ]
    },
    {
      "cell_type": "markdown",
      "source": [
        "## Google Colab attempt\n",
        "* Look at my cool list\n",
        "* So list-tastic\n",
        "  - Ooo a sub item\n",
        "  - And another one"
      ],
      "metadata": {
        "id": "Kx6jfN_fH7nQ"
      }
    }
  ]
}